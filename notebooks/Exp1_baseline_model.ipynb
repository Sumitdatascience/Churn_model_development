{
 "cells": [
  {
   "cell_type": "code",
   "execution_count": 33,
   "metadata": {},
   "outputs": [],
   "source": [
    "import pandas as pd\n",
    "import seaborn as sns\n",
    "import matplotlib.pyplot as plt\n",
    "import numpy as np\n",
    "from sklearn.model_selection import train_test_split\n",
    "from sklearn.impute import SimpleImputer\n",
    "from sklearn.preprocessing import OneHotEncoder\n",
    "from sklearn.preprocessing import MinMaxScaler,StandardScaler\n",
    "from sklearn.tree import DecisionTreeClassifier\n",
    "from sklearn.pipeline import  Pipeline,make_pipeline\n",
    "from sklearn.compose import ColumnTransformer\n",
    "from sklearn.ensemble import RandomForestClassifier\n",
    "from sklearn.ensemble import AdaBoostClassifier\n",
    "from sklearn.metrics import accuracy_score, precision_score, recall_score, f1_score\n"
   ]
  },
  {
   "cell_type": "code",
   "execution_count": 9,
   "metadata": {},
   "outputs": [
    {
     "data": {
      "text/html": [
       "<div>\n",
       "<style scoped>\n",
       "    .dataframe tbody tr th:only-of-type {\n",
       "        vertical-align: middle;\n",
       "    }\n",
       "\n",
       "    .dataframe tbody tr th {\n",
       "        vertical-align: top;\n",
       "    }\n",
       "\n",
       "    .dataframe thead th {\n",
       "        text-align: right;\n",
       "    }\n",
       "</style>\n",
       "<table border=\"1\" class=\"dataframe\">\n",
       "  <thead>\n",
       "    <tr style=\"text-align: right;\">\n",
       "      <th></th>\n",
       "      <th>CustomerID</th>\n",
       "      <th>Churn</th>\n",
       "      <th>Tenure</th>\n",
       "      <th>PreferredLoginDevice</th>\n",
       "      <th>CityTier</th>\n",
       "      <th>WarehouseToHome</th>\n",
       "      <th>PreferredPaymentMode</th>\n",
       "      <th>Gender</th>\n",
       "      <th>HourSpendOnApp</th>\n",
       "      <th>NumberOfDeviceRegistered</th>\n",
       "      <th>...</th>\n",
       "      <th>SatisfactionScore</th>\n",
       "      <th>MaritalStatus</th>\n",
       "      <th>NumberOfAddress</th>\n",
       "      <th>Complain</th>\n",
       "      <th>OrderAmountHikeFromLastYear</th>\n",
       "      <th>CouponUsed</th>\n",
       "      <th>OrderCount</th>\n",
       "      <th>DaySinceLastOrder</th>\n",
       "      <th>CashbackAmount</th>\n",
       "      <th>Unnamed: 20</th>\n",
       "    </tr>\n",
       "  </thead>\n",
       "  <tbody>\n",
       "    <tr>\n",
       "      <th>0</th>\n",
       "      <td>856</td>\n",
       "      <td>1</td>\n",
       "      <td>12</td>\n",
       "      <td>Desktop</td>\n",
       "      <td>0</td>\n",
       "      <td>0</td>\n",
       "      <td>No Payment</td>\n",
       "      <td>Female</td>\n",
       "      <td>0</td>\n",
       "      <td>1</td>\n",
       "      <td>...</td>\n",
       "      <td>4</td>\n",
       "      <td>0</td>\n",
       "      <td>0</td>\n",
       "      <td>1</td>\n",
       "      <td>0.0</td>\n",
       "      <td>0</td>\n",
       "      <td>0</td>\n",
       "      <td>0</td>\n",
       "      <td>0.0</td>\n",
       "      <td>NaN</td>\n",
       "    </tr>\n",
       "    <tr>\n",
       "      <th>1</th>\n",
       "      <td>857</td>\n",
       "      <td>1</td>\n",
       "      <td>12</td>\n",
       "      <td>Desktop</td>\n",
       "      <td>0</td>\n",
       "      <td>0</td>\n",
       "      <td>No Payment</td>\n",
       "      <td>Male</td>\n",
       "      <td>0</td>\n",
       "      <td>1</td>\n",
       "      <td>...</td>\n",
       "      <td>1</td>\n",
       "      <td>0</td>\n",
       "      <td>0</td>\n",
       "      <td>1</td>\n",
       "      <td>0.0</td>\n",
       "      <td>0</td>\n",
       "      <td>0</td>\n",
       "      <td>0</td>\n",
       "      <td>0.0</td>\n",
       "      <td>NaN</td>\n",
       "    </tr>\n",
       "    <tr>\n",
       "      <th>2</th>\n",
       "      <td>858</td>\n",
       "      <td>1</td>\n",
       "      <td>12</td>\n",
       "      <td>Desktop</td>\n",
       "      <td>0</td>\n",
       "      <td>0</td>\n",
       "      <td>No Payment</td>\n",
       "      <td>Male</td>\n",
       "      <td>0</td>\n",
       "      <td>1</td>\n",
       "      <td>...</td>\n",
       "      <td>1</td>\n",
       "      <td>0</td>\n",
       "      <td>0</td>\n",
       "      <td>0</td>\n",
       "      <td>0.0</td>\n",
       "      <td>0</td>\n",
       "      <td>0</td>\n",
       "      <td>0</td>\n",
       "      <td>0.0</td>\n",
       "      <td>NaN</td>\n",
       "    </tr>\n",
       "    <tr>\n",
       "      <th>3</th>\n",
       "      <td>859</td>\n",
       "      <td>1</td>\n",
       "      <td>12</td>\n",
       "      <td>Desktop</td>\n",
       "      <td>0</td>\n",
       "      <td>0</td>\n",
       "      <td>No Payment</td>\n",
       "      <td>Male</td>\n",
       "      <td>0</td>\n",
       "      <td>1</td>\n",
       "      <td>...</td>\n",
       "      <td>1</td>\n",
       "      <td>0</td>\n",
       "      <td>0</td>\n",
       "      <td>0</td>\n",
       "      <td>0.0</td>\n",
       "      <td>0</td>\n",
       "      <td>0</td>\n",
       "      <td>0</td>\n",
       "      <td>0.0</td>\n",
       "      <td>NaN</td>\n",
       "    </tr>\n",
       "    <tr>\n",
       "      <th>4</th>\n",
       "      <td>860</td>\n",
       "      <td>1</td>\n",
       "      <td>12</td>\n",
       "      <td>Desktop</td>\n",
       "      <td>0</td>\n",
       "      <td>0</td>\n",
       "      <td>No Payment</td>\n",
       "      <td>Female</td>\n",
       "      <td>0</td>\n",
       "      <td>1</td>\n",
       "      <td>...</td>\n",
       "      <td>1</td>\n",
       "      <td>0</td>\n",
       "      <td>0</td>\n",
       "      <td>1</td>\n",
       "      <td>0.0</td>\n",
       "      <td>0</td>\n",
       "      <td>0</td>\n",
       "      <td>0</td>\n",
       "      <td>0.0</td>\n",
       "      <td>NaN</td>\n",
       "    </tr>\n",
       "  </tbody>\n",
       "</table>\n",
       "<p>5 rows × 21 columns</p>\n",
       "</div>"
      ],
      "text/plain": [
       "   CustomerID  Churn  Tenure PreferredLoginDevice  CityTier  WarehouseToHome  \\\n",
       "0         856      1      12              Desktop         0                0   \n",
       "1         857      1      12              Desktop         0                0   \n",
       "2         858      1      12              Desktop         0                0   \n",
       "3         859      1      12              Desktop         0                0   \n",
       "4         860      1      12              Desktop         0                0   \n",
       "\n",
       "  PreferredPaymentMode  Gender  HourSpendOnApp  NumberOfDeviceRegistered  ...  \\\n",
       "0           No Payment  Female               0                         1  ...   \n",
       "1           No Payment    Male               0                         1  ...   \n",
       "2           No Payment    Male               0                         1  ...   \n",
       "3           No Payment    Male               0                         1  ...   \n",
       "4           No Payment  Female               0                         1  ...   \n",
       "\n",
       "  SatisfactionScore  MaritalStatus  NumberOfAddress  Complain  \\\n",
       "0                 4              0                0         1   \n",
       "1                 1              0                0         1   \n",
       "2                 1              0                0         0   \n",
       "3                 1              0                0         0   \n",
       "4                 1              0                0         1   \n",
       "\n",
       "   OrderAmountHikeFromLastYear  CouponUsed OrderCount  DaySinceLastOrder  \\\n",
       "0                          0.0           0          0                  0   \n",
       "1                          0.0           0          0                  0   \n",
       "2                          0.0           0          0                  0   \n",
       "3                          0.0           0          0                  0   \n",
       "4                          0.0           0          0                  0   \n",
       "\n",
       "   CashbackAmount  Unnamed: 20  \n",
       "0             0.0          NaN  \n",
       "1             0.0          NaN  \n",
       "2             0.0          NaN  \n",
       "3             0.0          NaN  \n",
       "4             0.0          NaN  \n",
       "\n",
       "[5 rows x 21 columns]"
      ]
     },
     "execution_count": 9,
     "metadata": {},
     "output_type": "execute_result"
    }
   ],
   "source": [
    "# data ingestion\n",
    "df = pd.read_csv(r\"C:\\Users\\Sumit\\Downloads\\customer_data_model_refined (4) (2).csv\", on_bad_lines='skip')\n",
    "df.head()"
   ]
  },
  {
   "cell_type": "code",
   "execution_count": 10,
   "metadata": {},
   "outputs": [],
   "source": [
    "df = df.drop(columns='Unnamed: 20')\n",
    "# df = df.drop(columns='CustomerID')\n",
    "df = df.drop(columns='CouponUsed')"
   ]
  },
  {
   "cell_type": "code",
   "execution_count": 11,
   "metadata": {},
   "outputs": [
    {
     "data": {
      "text/plain": [
       "Churn\n",
       "1    1172\n",
       "0    1163\n",
       "Name: count, dtype: int64"
      ]
     },
     "execution_count": 11,
     "metadata": {},
     "output_type": "execute_result"
    }
   ],
   "source": [
    "df['Churn'].value_counts()"
   ]
  },
  {
   "cell_type": "code",
   "execution_count": 12,
   "metadata": {},
   "outputs": [
    {
     "data": {
      "text/plain": [
       "CustomerID                     0\n",
       "Churn                          0\n",
       "Tenure                         0\n",
       "PreferredLoginDevice           0\n",
       "CityTier                       0\n",
       "WarehouseToHome                0\n",
       "PreferredPaymentMode           0\n",
       "Gender                         0\n",
       "HourSpendOnApp                 0\n",
       "NumberOfDeviceRegistered       0\n",
       "PreferredOrderCat              0\n",
       "SatisfactionScore              0\n",
       "MaritalStatus                  0\n",
       "NumberOfAddress                0\n",
       "Complain                       0\n",
       "OrderAmountHikeFromLastYear    0\n",
       "OrderCount                     0\n",
       "DaySinceLastOrder              0\n",
       "CashbackAmount                 0\n",
       "dtype: int64"
      ]
     },
     "execution_count": 12,
     "metadata": {},
     "output_type": "execute_result"
    }
   ],
   "source": [
    "\n",
    "df.isnull().sum()"
   ]
  },
  {
   "cell_type": "code",
   "execution_count": 13,
   "metadata": {},
   "outputs": [
    {
     "data": {
      "text/plain": [
       "np.int64(0)"
      ]
     },
     "execution_count": 13,
     "metadata": {},
     "output_type": "execute_result"
    }
   ],
   "source": [
    "df.duplicated().sum()"
   ]
  },
  {
   "cell_type": "code",
   "execution_count": 14,
   "metadata": {},
   "outputs": [
    {
     "name": "stdout",
     "output_type": "stream",
     "text": [
      "<class 'pandas.core.frame.DataFrame'>\n",
      "RangeIndex: 2335 entries, 0 to 2334\n",
      "Data columns (total 19 columns):\n",
      " #   Column                       Non-Null Count  Dtype  \n",
      "---  ------                       --------------  -----  \n",
      " 0   CustomerID                   2335 non-null   int64  \n",
      " 1   Churn                        2335 non-null   int64  \n",
      " 2   Tenure                       2335 non-null   int64  \n",
      " 3   PreferredLoginDevice         2335 non-null   object \n",
      " 4   CityTier                     2335 non-null   int64  \n",
      " 5   WarehouseToHome              2335 non-null   int64  \n",
      " 6   PreferredPaymentMode         2335 non-null   object \n",
      " 7   Gender                       2335 non-null   object \n",
      " 8   HourSpendOnApp               2335 non-null   int64  \n",
      " 9   NumberOfDeviceRegistered     2335 non-null   int64  \n",
      " 10  PreferredOrderCat            2335 non-null   object \n",
      " 11  SatisfactionScore            2335 non-null   int64  \n",
      " 12  MaritalStatus                2335 non-null   int64  \n",
      " 13  NumberOfAddress              2335 non-null   int64  \n",
      " 14  Complain                     2335 non-null   int64  \n",
      " 15  OrderAmountHikeFromLastYear  2335 non-null   float64\n",
      " 16  OrderCount                   2335 non-null   int64  \n",
      " 17  DaySinceLastOrder            2335 non-null   int64  \n",
      " 18  CashbackAmount               2335 non-null   float64\n",
      "dtypes: float64(2), int64(13), object(4)\n",
      "memory usage: 346.7+ KB\n"
     ]
    }
   ],
   "source": [
    "df.info()"
   ]
  },
  {
   "cell_type": "code",
   "execution_count": 15,
   "metadata": {},
   "outputs": [],
   "source": [
    "# Separate numerical columns\n",
    "numerical_cols = df.select_dtypes(include=['number']).columns\n",
    "\n",
    "# Separate categorical columns\n",
    "categorical_cols = df.select_dtypes(include=['object', 'category']).columns\n"
   ]
  },
  {
   "cell_type": "code",
   "execution_count": 16,
   "metadata": {},
   "outputs": [
    {
     "name": "stdout",
     "output_type": "stream",
     "text": [
      "Numerical Columns: Index(['CustomerID', 'Churn', 'Tenure', 'CityTier', 'WarehouseToHome',\n",
      "       'HourSpendOnApp', 'NumberOfDeviceRegistered', 'SatisfactionScore',\n",
      "       'MaritalStatus', 'NumberOfAddress', 'Complain',\n",
      "       'OrderAmountHikeFromLastYear', 'OrderCount', 'DaySinceLastOrder',\n",
      "       'CashbackAmount'],\n",
      "      dtype='object')\n"
     ]
    }
   ],
   "source": [
    "print(\"Numerical Columns:\", numerical_cols)"
   ]
  },
  {
   "cell_type": "code",
   "execution_count": 17,
   "metadata": {},
   "outputs": [
    {
     "name": "stdout",
     "output_type": "stream",
     "text": [
      "categorical Columns: Index(['PreferredLoginDevice', 'PreferredPaymentMode', 'Gender',\n",
      "       'PreferredOrderCat'],\n",
      "      dtype='object')\n"
     ]
    }
   ],
   "source": [
    "print(\"categorical Columns:\", categorical_cols)"
   ]
  },
  {
   "cell_type": "code",
   "execution_count": 18,
   "metadata": {},
   "outputs": [
    {
     "data": {
      "text/plain": [
       "PreferredPaymentMode\n",
       "No Payment                         1146\n",
       "Installment                         321\n",
       "Pay Now                             274\n",
       "Pay on Delivery                     250\n",
       "Mips                                169\n",
       "Bank Transfer Payment               141\n",
       "No Payment Information Required      34\n",
       "Name: count, dtype: int64"
      ]
     },
     "execution_count": 18,
     "metadata": {},
     "output_type": "execute_result"
    }
   ],
   "source": [
    "categories_to_replace=[\"Payment by installment (Hire Purchase by Roger's Capital)\",\"Payment by installment (Hire Purchase by CIM Finance)\"\n",
    "    \n",
    "]\n",
    "\n",
    "df['PreferredPaymentMode'] = df['PreferredPaymentMode'].replace(categories_to_replace, 'Installment')\n",
    "\n",
    "\n",
    "categories_to_replace=['Mips Juice',\"Mips Bank Transfer\",'Mips POP']\n",
    "\n",
    "df['PreferredPaymentMode'] = df['PreferredPaymentMode'].replace(categories_to_replace, 'Mips')\n",
    "df['PreferredPaymentMode'].value_counts()"
   ]
  },
  {
   "cell_type": "code",
   "execution_count": 19,
   "metadata": {},
   "outputs": [
    {
     "data": {
      "text/plain": [
       "PreferredOrderCat\n",
       "No Order            1146\n",
       "Home Appliances      530\n",
       "Electronics          490\n",
       "Others                96\n",
       "Beauty & Fitness      73\n",
       "Name: count, dtype: int64"
      ]
     },
     "execution_count": 19,
     "metadata": {},
     "output_type": "execute_result"
    }
   ],
   "source": [
    "# List of categories to be replaced with 'Electronics'\n",
    "categories_to_replace = [\n",
    "    'Mobile', 'Smartphones', 'Computing', 'Wearables', 'TV & Audio', \n",
    "    'Television', 'Televisions', 'Portable Speaker', 'Computer Speakers', \n",
    "    'High Pressure Cleaners', 'Laptops', 'Desktop PCs, Laptops & Notebooks', \n",
    "    'Networking', 'Monitor', 'Mobile Phone Accessories', 'Tablets and Accessories', \n",
    "    'Headset', 'Keyboard & Mouse','Desktop Pcs  Laptops & Notebooks','Headphones','All in One Printer','Other Computer Accessories','Desktop Pcs  Laptops & Notebooks '\n",
    "]\n",
    "\n",
    "# Replace the specified categories with 'Electronics'\n",
    "df['PreferredOrderCat'] = df['PreferredOrderCat'].replace(categories_to_replace, 'Electronics')\n",
    "\n",
    "\n",
    "\n",
    "# List of categories to be replaced with 'Home Appliances'\n",
    "categories_to_replace_home_appliances = [\n",
    "    'Small Appliances', 'Home Appliances', 'Refrigerators', 'Microwaves', \n",
    "    'Wet & Dry Vacuum Cleaner', 'Stick Vacuum Cleaners', 'Air Purifiers', \n",
    "    'Fryers', 'Cookwares', 'Built-in Ovens', 'Gas Water Heaters', 'Kettles', \n",
    "    'Cooker Hoods', 'Hair Dryers', 'Air Conditioner', 'Tools', \n",
    "    'Hedge Trimmer', 'Hot Deals', 'Dry Vacuum Cleaners','Food Processor'\n",
    "]\n",
    "\n",
    "# Replace the specified categories with 'Home Appliances'\n",
    "df['PreferredOrderCat'] = df['PreferredOrderCat'].replace(categories_to_replace_home_appliances, 'Home Appliances')\n",
    "\n",
    "\n",
    "# List of categories to be replaced with 'Others'\n",
    "categories_to_replace_others = [\n",
    "    'Hair Dryers', 'Musical Instruments', 'Guitar', \n",
    "    'Furniture & Deco', 'Leisure & Transport', \n",
    "    'Food Processor', 'Showcase', \n",
    "    'No Category Found', 'Mini'\n",
    "]\n",
    "\n",
    "# Replace the specified categories with 'Others'\n",
    "df['PreferredOrderCat'] = df['PreferredOrderCat'].replace(categories_to_replace_others, 'Others')\n",
    "\n",
    "df['PreferredOrderCat'].value_counts()\n",
    "\n"
   ]
  },
  {
   "cell_type": "code",
   "execution_count": 20,
   "metadata": {},
   "outputs": [
    {
     "name": "stdout",
     "output_type": "stream",
     "text": [
      "First Quartile (Q1) : 0.0\n",
      "Median (Q2) : 1.0\n",
      "Third Quartile (Q3) : 1.0\n",
      "Interquartile Range (IQR) : 1.0\n",
      "max_value : 19\n",
      "min_value : 0\n",
      "Lower wishker : -1.5\n",
      "upper wishker : 2.5\n",
      "Lower Whisker (Min without outliers) : 0\n",
      "Upper Whisker (Max without outliers) : 2.5\n",
      "Outliers : [ 3  3  3  4 10  6  4 19  4  3  3  3  4 11  3  3 15  3  3  3  3  6  3  6\n",
      "  3  4  3  3  3  3  3  3 13  4  5  3  5  3  4 17  5  4 18  6  3  8  3  3\n",
      "  4  7  3  3  8  3  3  3  3  4  3  3  3]\n",
      "Total Outliers : 61\n"
     ]
    }
   ],
   "source": [
    "\n",
    "tenure_data = df['NumberOfAddress']\n",
    "\n",
    "# Quartiles\n",
    "Q1 = tenure_data.quantile(0.25)\n",
    "median = tenure_data.median()\n",
    "Q3 = tenure_data.quantile(0.75)\n",
    "\n",
    "# Interquartile range\n",
    "IQR = Q3 - Q1\n",
    "\n",
    "# Whiskers\n",
    "lower_whisker = Q1 - 1.5 * IQR\n",
    "upper_whisker = Q3 + 1.5 * IQR\n",
    "\n",
    "# print('Lower wishker',lower_whisker)\n",
    "# print('upper wishker',upper_range)\n",
    "\n",
    "# Outliers\n",
    "outliers = tenure_data[(tenure_data < lower_whisker) | (tenure_data > upper_whisker)]\n",
    "\n",
    "# Summary of the box plot statistics\n",
    "box_plot_info = {\n",
    "    \"First Quartile (Q1)\": Q1,\n",
    "    \"Median (Q2)\": median,\n",
    "    \"Third Quartile (Q3)\": Q3,\n",
    "    \"Interquartile Range (IQR)\": IQR,\n",
    "    'max_value':tenure_data.max(),\n",
    "    'min_value':tenure_data.min(),\n",
    "    'Lower wishker':lower_whisker,\n",
    "    'upper wishker': upper_whisker,\n",
    "\n",
    "    \"Lower Whisker (Min without outliers)\": max(tenure_data.min(), lower_whisker),\n",
    "    \"Upper Whisker (Max without outliers)\": min(tenure_data.max(), upper_whisker),\n",
    "    \"Outliers\": outliers.values,\n",
    "    \"Total Outliers\": len(outliers)\n",
    "}\n",
    "\n",
    "for k,v in box_plot_info.items():\n",
    "    print(f'{k} : {v}')\n"
   ]
  },
  {
   "cell_type": "code",
   "execution_count": 21,
   "metadata": {},
   "outputs": [],
   "source": [
    "df['NumberOfAddress']=np.where(\n",
    "    df['NumberOfAddress']>5,\n",
    "    5,\n",
    "    np.where(df['NumberOfAddress']< lower_whisker,\n",
    "             lower_whisker,df['NumberOfAddress']))"
   ]
  },
  {
   "cell_type": "code",
   "execution_count": 22,
   "metadata": {},
   "outputs": [
    {
     "name": "stdout",
     "output_type": "stream",
     "text": [
      "First Quartile (Q1) : 0.0\n",
      "Median (Q2) : 0.0\n",
      "Third Quartile (Q3) : 0.0\n",
      "Interquartile Range (IQR) : 0.0\n",
      "max_value : 88900.0\n",
      "min_value : -100.0\n",
      "Lower wishker : 0.0\n",
      "upper wishker : 0.0\n",
      "Lower Whisker (Min without outliers) : 0.0\n",
      "Upper Whisker (Max without outliers) : 0.0\n",
      "Outliers : [-1.00000000e+02 -1.00000000e+02 -1.00000000e+02 -1.00000000e+02\n",
      " -1.00000000e+02 -9.25878430e+01 -1.00000000e+02 -1.00000000e+02\n",
      " -1.00000000e+02 -1.00000000e+02 -1.00000000e+02 -1.00000000e+02\n",
      " -1.00000000e+02 -1.00000000e+02 -1.00000000e+02 -1.00000000e+02\n",
      "  4.61123941e+01 -6.65674972e+01  5.83819850e+01  6.40915594e+01\n",
      " -6.04384134e+01  1.20423779e+02  1.00502513e+02  1.00000000e+00\n",
      "  8.89000000e+04 -9.08962597e+01 -7.41482966e+01  2.73556231e+01\n",
      " -2.59451446e+01  5.82329317e+02 -4.94362533e+01  2.33592881e+02\n",
      "  3.07692308e+02 -5.55050045e+01 -3.60824742e+01  5.05050505e+01\n",
      "  6.51629073e+02  5.94795539e+01 -7.64331210e+01  2.11834320e+02\n",
      " -6.22837370e+01  1.20918367e+02  1.36697248e+03 -6.29470672e+01\n",
      "  2.34386617e+02  2.02947720e+02 -8.06020067e+01  5.72246066e+01\n",
      "  6.66666667e+02 -7.64331210e+01 -9.03406005e+01  2.05805806e+02\n",
      " -5.35117057e+01 -5.26315789e+01  3.29192547e+01  2.67558528e+00\n",
      "  3.89105058e+01 -3.33492139e+01 -2.00200200e+01  1.43884892e+01\n",
      "  2.84448161e+02 -9.87324883e+01  9.93023256e+02 -7.00700701e+01\n",
      " -6.00267380e+01  2.21084337e+02  4.54959054e+01 -1.00000000e+02\n",
      "  1.00502513e+03 -5.65709312e+01 -5.63454450e+01 -6.41553855e+01\n",
      " -9.48366702e+00 -4.28571429e+01  4.16413374e+02  4.57249071e+02\n",
      " -7.52739400e+01  2.12249848e+01 -1.75438596e+01  5.55555556e+01\n",
      " -3.67892977e+01  1.70542636e+02  1.53964588e+01 -7.69822941e+01\n",
      "  1.61862464e+03 -1.17716304e+01 -9.48499444e+01 -8.00500313e+01\n",
      "  1.80360721e+02 -7.02426564e+01 -9.24072984e+01 -6.41056423e+01\n",
      "  2.61241970e+01]\n",
      "Total Outliers : 93\n"
     ]
    }
   ],
   "source": [
    "tenure_data = df['OrderAmountHikeFromLastYear']\n",
    "\n",
    "# Quartiles\n",
    "Q1 = tenure_data.quantile(0.25)\n",
    "median = tenure_data.median()\n",
    "Q3 = tenure_data.quantile(0.75)\n",
    "\n",
    "# Interquartile range\n",
    "IQR = Q3 - Q1\n",
    "\n",
    "# Whiskers\n",
    "lower_whisker = Q1 - 1.5 * IQR\n",
    "upper_whisker = Q3 + 1.5 * IQR\n",
    "\n",
    "# print('Lower wishker',lower_whisker)\n",
    "# print('upper wishker',upper_range)\n",
    "\n",
    "# Outliers\n",
    "outliers = tenure_data[(tenure_data < lower_whisker) | (tenure_data > upper_whisker)]\n",
    "\n",
    "# Summary of the box plot statistics\n",
    "box_plot_info = {\n",
    "    \"First Quartile (Q1)\": Q1,\n",
    "    \"Median (Q2)\": median,\n",
    "    \"Third Quartile (Q3)\": Q3,\n",
    "    \"Interquartile Range (IQR)\": IQR,\n",
    "    'max_value':tenure_data.max(),\n",
    "    'min_value':tenure_data.min(),\n",
    "    'Lower wishker':lower_whisker,\n",
    "    'upper wishker': upper_whisker,\n",
    "\n",
    "    \"Lower Whisker (Min without outliers)\": max(tenure_data.min(), lower_whisker),\n",
    "    \"Upper Whisker (Max without outliers)\": min(tenure_data.max(), upper_whisker),\n",
    "    \"Outliers\": outliers.values,\n",
    "    \"Total Outliers\": len(outliers)\n",
    "}\n",
    "\n",
    "\n",
    "for k,v in box_plot_info.items():\n",
    "    print(f'{k} : {v}')\n"
   ]
  },
  {
   "cell_type": "code",
   "execution_count": 23,
   "metadata": {},
   "outputs": [],
   "source": [
    "df['OrderAmountHikeFromLastYear']=np.where(\n",
    "    df['OrderAmountHikeFromLastYear']>upper_whisker,\n",
    "    upper_whisker,\n",
    "    np.where(df['OrderAmountHikeFromLastYear']< lower_whisker,\n",
    "             lower_whisker,df['OrderAmountHikeFromLastYear']))"
   ]
  },
  {
   "cell_type": "code",
   "execution_count": 24,
   "metadata": {},
   "outputs": [
    {
     "name": "stdout",
     "output_type": "stream",
     "text": [
      "First Quartile (Q1) : 0.0\n",
      "Median (Q2) : 29.0\n",
      "Third Quartile (Q3) : 113.0\n",
      "Interquartile Range (IQR) : 113.0\n",
      "max_value : 330\n",
      "min_value : 0\n",
      "Lower wishker : -169.5\n",
      "upper wishker : 282.5\n",
      "Lower Whisker (Min without outliers) : 0\n",
      "Upper Whisker (Max without outliers) : 282.5\n",
      "Outliers : [306 330 297 297 321 316 329 299 292 311 310 292]\n",
      "Total Outliers : 12\n"
     ]
    }
   ],
   "source": [
    "tenure_data = df['DaySinceLastOrder']\n",
    "\n",
    "# Quartiles\n",
    "Q1 = tenure_data.quantile(0.25)\n",
    "median = tenure_data.median()\n",
    "Q3 = tenure_data.quantile(0.75)\n",
    "\n",
    "# Interquartile range\n",
    "IQR = Q3 - Q1\n",
    "\n",
    "# Whiskers\n",
    "lower_whisker = Q1 - 1.5 * IQR\n",
    "upper_whisker = Q3 + 1.5 * IQR\n",
    "\n",
    "# print('Lower wishker',lower_whisker)\n",
    "# print('upper wishker',upper_range)\n",
    "\n",
    "# Outliers\n",
    "outliers = tenure_data[(tenure_data < lower_whisker) | (tenure_data > upper_whisker)]\n",
    "\n",
    "# Summary of the box plot statistics\n",
    "box_plot_info = {\n",
    "    \"First Quartile (Q1)\": Q1,\n",
    "    \"Median (Q2)\": median,\n",
    "    \"Third Quartile (Q3)\": Q3,\n",
    "    \"Interquartile Range (IQR)\": IQR,\n",
    "    'max_value':tenure_data.max(),\n",
    "    'min_value':tenure_data.min(),\n",
    "    'Lower wishker':lower_whisker,\n",
    "    'upper wishker': upper_whisker,\n",
    "\n",
    "    \"Lower Whisker (Min without outliers)\": max(tenure_data.min(), lower_whisker),\n",
    "    \"Upper Whisker (Max without outliers)\": min(tenure_data.max(), upper_whisker),\n",
    "    \"Outliers\": outliers.values,\n",
    "    \"Total Outliers\": len(outliers)\n",
    "}\n",
    "\n",
    "\n",
    "for k,v in box_plot_info.items():\n",
    "    print(f'{k} : {v}')"
   ]
  },
  {
   "cell_type": "code",
   "execution_count": 25,
   "metadata": {},
   "outputs": [],
   "source": [
    "df['DaySinceLastOrder']=np.where(\n",
    "    df['DaySinceLastOrder']>upper_whisker,\n",
    "    upper_whisker,\n",
    "    np.where(df['DaySinceLastOrder']< lower_whisker,\n",
    "             lower_whisker,df['DaySinceLastOrder']))"
   ]
  },
  {
   "cell_type": "code",
   "execution_count": 26,
   "metadata": {},
   "outputs": [
    {
     "data": {
      "text/html": [
       "<div>\n",
       "<style scoped>\n",
       "    .dataframe tbody tr th:only-of-type {\n",
       "        vertical-align: middle;\n",
       "    }\n",
       "\n",
       "    .dataframe tbody tr th {\n",
       "        vertical-align: top;\n",
       "    }\n",
       "\n",
       "    .dataframe thead th {\n",
       "        text-align: right;\n",
       "    }\n",
       "</style>\n",
       "<table border=\"1\" class=\"dataframe\">\n",
       "  <thead>\n",
       "    <tr style=\"text-align: right;\">\n",
       "      <th></th>\n",
       "      <th>CustomerID</th>\n",
       "      <th>Churn</th>\n",
       "      <th>Tenure</th>\n",
       "      <th>PreferredLoginDevice</th>\n",
       "      <th>CityTier</th>\n",
       "      <th>WarehouseToHome</th>\n",
       "      <th>PreferredPaymentMode</th>\n",
       "      <th>Gender</th>\n",
       "      <th>HourSpendOnApp</th>\n",
       "      <th>NumberOfDeviceRegistered</th>\n",
       "      <th>PreferredOrderCat</th>\n",
       "      <th>SatisfactionScore</th>\n",
       "      <th>MaritalStatus</th>\n",
       "      <th>NumberOfAddress</th>\n",
       "      <th>Complain</th>\n",
       "      <th>OrderAmountHikeFromLastYear</th>\n",
       "      <th>OrderCount</th>\n",
       "      <th>DaySinceLastOrder</th>\n",
       "      <th>CashbackAmount</th>\n",
       "    </tr>\n",
       "  </thead>\n",
       "  <tbody>\n",
       "    <tr>\n",
       "      <th>0</th>\n",
       "      <td>856</td>\n",
       "      <td>1</td>\n",
       "      <td>12</td>\n",
       "      <td>Desktop</td>\n",
       "      <td>0</td>\n",
       "      <td>0</td>\n",
       "      <td>No Payment</td>\n",
       "      <td>Female</td>\n",
       "      <td>0</td>\n",
       "      <td>1</td>\n",
       "      <td>No Order</td>\n",
       "      <td>4</td>\n",
       "      <td>0</td>\n",
       "      <td>0.0</td>\n",
       "      <td>1</td>\n",
       "      <td>0.0</td>\n",
       "      <td>0</td>\n",
       "      <td>0.0</td>\n",
       "      <td>0.0</td>\n",
       "    </tr>\n",
       "    <tr>\n",
       "      <th>1</th>\n",
       "      <td>857</td>\n",
       "      <td>1</td>\n",
       "      <td>12</td>\n",
       "      <td>Desktop</td>\n",
       "      <td>0</td>\n",
       "      <td>0</td>\n",
       "      <td>No Payment</td>\n",
       "      <td>Male</td>\n",
       "      <td>0</td>\n",
       "      <td>1</td>\n",
       "      <td>No Order</td>\n",
       "      <td>1</td>\n",
       "      <td>0</td>\n",
       "      <td>0.0</td>\n",
       "      <td>1</td>\n",
       "      <td>0.0</td>\n",
       "      <td>0</td>\n",
       "      <td>0.0</td>\n",
       "      <td>0.0</td>\n",
       "    </tr>\n",
       "    <tr>\n",
       "      <th>2</th>\n",
       "      <td>858</td>\n",
       "      <td>1</td>\n",
       "      <td>12</td>\n",
       "      <td>Desktop</td>\n",
       "      <td>0</td>\n",
       "      <td>0</td>\n",
       "      <td>No Payment</td>\n",
       "      <td>Male</td>\n",
       "      <td>0</td>\n",
       "      <td>1</td>\n",
       "      <td>No Order</td>\n",
       "      <td>1</td>\n",
       "      <td>0</td>\n",
       "      <td>0.0</td>\n",
       "      <td>0</td>\n",
       "      <td>0.0</td>\n",
       "      <td>0</td>\n",
       "      <td>0.0</td>\n",
       "      <td>0.0</td>\n",
       "    </tr>\n",
       "    <tr>\n",
       "      <th>3</th>\n",
       "      <td>859</td>\n",
       "      <td>1</td>\n",
       "      <td>12</td>\n",
       "      <td>Desktop</td>\n",
       "      <td>0</td>\n",
       "      <td>0</td>\n",
       "      <td>No Payment</td>\n",
       "      <td>Male</td>\n",
       "      <td>0</td>\n",
       "      <td>1</td>\n",
       "      <td>No Order</td>\n",
       "      <td>1</td>\n",
       "      <td>0</td>\n",
       "      <td>0.0</td>\n",
       "      <td>0</td>\n",
       "      <td>0.0</td>\n",
       "      <td>0</td>\n",
       "      <td>0.0</td>\n",
       "      <td>0.0</td>\n",
       "    </tr>\n",
       "    <tr>\n",
       "      <th>4</th>\n",
       "      <td>860</td>\n",
       "      <td>1</td>\n",
       "      <td>12</td>\n",
       "      <td>Desktop</td>\n",
       "      <td>0</td>\n",
       "      <td>0</td>\n",
       "      <td>No Payment</td>\n",
       "      <td>Female</td>\n",
       "      <td>0</td>\n",
       "      <td>1</td>\n",
       "      <td>No Order</td>\n",
       "      <td>1</td>\n",
       "      <td>0</td>\n",
       "      <td>0.0</td>\n",
       "      <td>1</td>\n",
       "      <td>0.0</td>\n",
       "      <td>0</td>\n",
       "      <td>0.0</td>\n",
       "      <td>0.0</td>\n",
       "    </tr>\n",
       "  </tbody>\n",
       "</table>\n",
       "</div>"
      ],
      "text/plain": [
       "   CustomerID  Churn  Tenure PreferredLoginDevice  CityTier  WarehouseToHome  \\\n",
       "0         856      1      12              Desktop         0                0   \n",
       "1         857      1      12              Desktop         0                0   \n",
       "2         858      1      12              Desktop         0                0   \n",
       "3         859      1      12              Desktop         0                0   \n",
       "4         860      1      12              Desktop         0                0   \n",
       "\n",
       "  PreferredPaymentMode  Gender  HourSpendOnApp  NumberOfDeviceRegistered  \\\n",
       "0           No Payment  Female               0                         1   \n",
       "1           No Payment    Male               0                         1   \n",
       "2           No Payment    Male               0                         1   \n",
       "3           No Payment    Male               0                         1   \n",
       "4           No Payment  Female               0                         1   \n",
       "\n",
       "  PreferredOrderCat  SatisfactionScore  MaritalStatus  NumberOfAddress  \\\n",
       "0          No Order                  4              0              0.0   \n",
       "1          No Order                  1              0              0.0   \n",
       "2          No Order                  1              0              0.0   \n",
       "3          No Order                  1              0              0.0   \n",
       "4          No Order                  1              0              0.0   \n",
       "\n",
       "   Complain  OrderAmountHikeFromLastYear  OrderCount  DaySinceLastOrder  \\\n",
       "0         1                          0.0           0                0.0   \n",
       "1         1                          0.0           0                0.0   \n",
       "2         0                          0.0           0                0.0   \n",
       "3         0                          0.0           0                0.0   \n",
       "4         1                          0.0           0                0.0   \n",
       "\n",
       "   CashbackAmount  \n",
       "0             0.0  \n",
       "1             0.0  \n",
       "2             0.0  \n",
       "3             0.0  \n",
       "4             0.0  "
      ]
     },
     "execution_count": 26,
     "metadata": {},
     "output_type": "execute_result"
    }
   ],
   "source": [
    "df.head()"
   ]
  },
  {
   "cell_type": "code",
   "execution_count": 27,
   "metadata": {},
   "outputs": [],
   "source": [
    "df = df.drop(columns='CustomerID')"
   ]
  },
  {
   "cell_type": "markdown",
   "metadata": {},
   "source": [
    "# Split the independent and dependent variable"
   ]
  },
  {
   "cell_type": "code",
   "execution_count": 30,
   "metadata": {},
   "outputs": [],
   "source": [
    "x= df.drop(columns='Churn')\n",
    "y= df['Churn']"
   ]
  },
  {
   "cell_type": "markdown",
   "metadata": {},
   "source": [
    "# Split the data into Training and Testing"
   ]
  },
  {
   "cell_type": "code",
   "execution_count": 31,
   "metadata": {},
   "outputs": [],
   "source": [
    "x_train,x_test,y_train,y_test = train_test_split(x,y,test_size=0.2, random_state=41)"
   ]
  },
  {
   "cell_type": "markdown",
   "metadata": {},
   "source": [
    "# Exprement tracking"
   ]
  },
  {
   "cell_type": "code",
   "execution_count": 32,
   "metadata": {},
   "outputs": [
    {
     "data": {
      "text/html": [
       "<pre style=\"white-space:pre;overflow-x:auto;line-height:normal;font-family:Menlo,'DejaVu Sans Mono',consolas,'Courier New',monospace\">Accessing as Sumitdatascience\n",
       "</pre>\n"
      ],
      "text/plain": [
       "Accessing as Sumitdatascience\n"
      ]
     },
     "metadata": {},
     "output_type": "display_data"
    },
    {
     "data": {
      "text/html": [
       "<pre style=\"white-space:pre;overflow-x:auto;line-height:normal;font-family:Menlo,'DejaVu Sans Mono',consolas,'Courier New',monospace\">Initialized MLflow to track repo <span style=\"color: #008000; text-decoration-color: #008000\">\"Sumitdatascience/Churn_model_development\"</span>\n",
       "</pre>\n"
      ],
      "text/plain": [
       "Initialized MLflow to track repo \u001b[32m\"Sumitdatascience/Churn_model_development\"\u001b[0m\n"
      ]
     },
     "metadata": {},
     "output_type": "display_data"
    },
    {
     "data": {
      "text/html": [
       "<pre style=\"white-space:pre;overflow-x:auto;line-height:normal;font-family:Menlo,'DejaVu Sans Mono',consolas,'Courier New',monospace\">Repository Sumitdatascience/Churn_model_development initialized!\n",
       "</pre>\n"
      ],
      "text/plain": [
       "Repository Sumitdatascience/Churn_model_development initialized!\n"
      ]
     },
     "metadata": {},
     "output_type": "display_data"
    },
    {
     "name": "stderr",
     "output_type": "stream",
     "text": [
      "2024/10/01 14:59:38 INFO mlflow.tracking.fluent: Experiment with name 'Decision Tree Baseline' does not exist. Creating a new experiment.\n"
     ]
    },
    {
     "data": {
      "text/plain": [
       "<Experiment: artifact_location='mlflow-artifacts:/14cc64f64e6a49488e5cb1138a47c269', creation_time=1727774978577, experiment_id='0', last_update_time=1727774978577, lifecycle_stage='active', name='Decision Tree Baseline', tags={}>"
      ]
     },
     "execution_count": 32,
     "metadata": {},
     "output_type": "execute_result"
    }
   ],
   "source": [
    "import mlflow\n",
    "import dagshub\n",
    "\n",
    "mlflow.set_tracking_uri('https://dagshub.com/Sumitdatascience/Churn_model_development.mlflow')\n",
    "dagshub.init(repo_owner='Sumitdatascience', repo_name='Churn_model_development', mlflow=True)\n",
    "\n",
    "mlflow.set_experiment(\"Decision Tree Baseline\")"
   ]
  },
  {
   "cell_type": "code",
   "execution_count": 34,
   "metadata": {},
   "outputs": [],
   "source": [
    "trf1 = ColumnTransformer([\n",
    "    ('Categorical_column_OHE', OneHotEncoder(sparse_output=False, drop='first', handle_unknown='ignore'), [1, 4, 5, 8])\n",
    "], remainder='passthrough')"
   ]
  },
  {
   "cell_type": "code",
   "execution_count": 35,
   "metadata": {},
   "outputs": [],
   "source": [
    "trf2 = ColumnTransformer([\n",
    "    ('scale',StandardScaler(),slice(0,24))\n",
    "])"
   ]
  },
  {
   "cell_type": "code",
   "execution_count": 36,
   "metadata": {},
   "outputs": [],
   "source": [
    "decisiontreeclassifier = DecisionTreeClassifier()"
   ]
  },
  {
   "cell_type": "code",
   "execution_count": 37,
   "metadata": {},
   "outputs": [],
   "source": [
    "model = make_pipeline(trf1,trf2,decisiontreeclassifier)"
   ]
  },
  {
   "cell_type": "code",
   "execution_count": 38,
   "metadata": {},
   "outputs": [
    {
     "name": "stderr",
     "output_type": "stream",
     "text": [
      "2024/10/01 15:30:53 WARNING mlflow.models.model: Model logged without a signature and input example. Please set `input_example` parameter when logging the model to auto infer the model signature.\n"
     ]
    },
    {
     "name": "stdout",
     "output_type": "stream",
     "text": [
      "Accuracy: 1.0\n",
      "Precision: 1.0\n",
      "Recall: 1.0\n",
      "F1 Score: 1.0\n"
     ]
    },
    {
     "name": "stderr",
     "output_type": "stream",
     "text": [
      "2024/10/01 15:30:59 INFO mlflow.tracking._tracking_service.client: 🏃 View run caring-finch-470 at: https://dagshub.com/Sumitdatascience/Churn_model_development.mlflow/#/experiments/0/runs/1db4fd4fc1ec42a99a49cfeea76f8d54.\n",
      "2024/10/01 15:30:59 INFO mlflow.tracking._tracking_service.client: 🧪 View experiment at: https://dagshub.com/Sumitdatascience/Churn_model_development.mlflow/#/experiments/0.\n"
     ]
    }
   ],
   "source": [
    "with mlflow.start_run():\n",
    "    \n",
    "    # Log preprocessing parameters\n",
    "    mlflow.log_param(\"test_size\", 0.2)\n",
    "    \n",
    "    # Model building and training\n",
    "\n",
    "    model = make_pipeline(trf1,trf2,decisiontreeclassifier)\n",
    "    model.fit(x_train, y_train)\n",
    "    \n",
    "    # Log model parameters\n",
    "    mlflow.log_param(\"model\", \"Decision Tree\")\n",
    "    \n",
    "    # Model evaluation\n",
    "    y_pred = model.predict(x_test)\n",
    "    accuracy = accuracy_score(y_test, y_pred)\n",
    "    precision = precision_score(y_test, y_pred)\n",
    "    recall = recall_score(y_test, y_pred)\n",
    "    f1 = f1_score(y_test, y_pred)\n",
    "    \n",
    "    # Log evaluation metrics\n",
    "    mlflow.log_metric(\"accuracy\", accuracy)\n",
    "    mlflow.log_metric(\"precision\", precision)\n",
    "    mlflow.log_metric(\"recall\", recall)\n",
    "    mlflow.log_metric(\"f1_score\", f1)\n",
    "    \n",
    "    # Log model\n",
    "    mlflow.sklearn.log_model(model, \"model\")\n",
    "\n",
    "    # Save and log the notebook\n",
    "    import os\n",
    "    notebook_path = \"Exp1_baseline_model.ipynb\"\n",
    "    os.system(f\"jupyter nbconvert --to notebook --execute --inplace {notebook_path}\")\n",
    "    mlflow.log_artifact(notebook_path)\n",
    "    \n",
    "    # Print the results for verification\n",
    "    print(f\"Accuracy: {accuracy}\")\n",
    "    print(f\"Precision: {precision}\")\n",
    "    print(f\"Recall: {recall}\")\n",
    "    print(f\"F1 Score: {f1}\")"
   ]
  },
  {
   "cell_type": "code",
   "execution_count": null,
   "metadata": {},
   "outputs": [],
   "source": []
  }
 ],
 "metadata": {
  "kernelspec": {
   "display_name": "myenv",
   "language": "python",
   "name": "python3"
  },
  "language_info": {
   "codemirror_mode": {
    "name": "ipython",
    "version": 3
   },
   "file_extension": ".py",
   "mimetype": "text/x-python",
   "name": "python",
   "nbconvert_exporter": "python",
   "pygments_lexer": "ipython3",
   "version": "3.10.0"
  }
 },
 "nbformat": 4,
 "nbformat_minor": 2
}
